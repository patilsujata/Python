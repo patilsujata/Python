{
 "cells": [
  {
   "cell_type": "code",
   "execution_count": 1,
   "id": "c417ff66",
   "metadata": {},
   "outputs": [
    {
     "name": "stdout",
     "output_type": "stream",
     "text": [
      "The Zen of Python, by Tim Peters\n",
      "\n",
      "Beautiful is better than ugly.\n",
      "Explicit is better than implicit.\n",
      "Simple is better than complex.\n",
      "Complex is better than complicated.\n",
      "Flat is better than nested.\n",
      "Sparse is better than dense.\n",
      "Readability counts.\n",
      "Special cases aren't special enough to break the rules.\n",
      "Although practicality beats purity.\n",
      "Errors should never pass silently.\n",
      "Unless explicitly silenced.\n",
      "In the face of ambiguity, refuse the temptation to guess.\n",
      "There should be one-- and preferably only one --obvious way to do it.\n",
      "Although that way may not be obvious at first unless you're Dutch.\n",
      "Now is better than never.\n",
      "Although never is often better than *right* now.\n",
      "If the implementation is hard to explain, it's a bad idea.\n",
      "If the implementation is easy to explain, it may be a good idea.\n",
      "Namespaces are one honking great idea -- let's do more of those!\n"
     ]
    }
   ],
   "source": [
    "import this"
   ]
  },
  {
   "cell_type": "code",
   "execution_count": 2,
   "id": "5ead1340",
   "metadata": {},
   "outputs": [
    {
     "data": {
      "text/plain": [
       "3"
      ]
     },
     "execution_count": 2,
     "metadata": {},
     "output_type": "execute_result"
    }
   ],
   "source": [
    "1+2"
   ]
  },
  {
   "cell_type": "code",
   "execution_count": 3,
   "id": "53f5bf24",
   "metadata": {},
   "outputs": [
    {
     "data": {
      "text/plain": [
       "'C:\\\\Users\\\\admin\\\\Desktop\\\\Python\\\\Python Crash Course'"
      ]
     },
     "execution_count": 3,
     "metadata": {},
     "output_type": "execute_result"
    }
   ],
   "source": [
    "pwd ## current working directory"
   ]
  },
  {
   "cell_type": "code",
   "execution_count": 4,
   "id": "b079e7ec",
   "metadata": {},
   "outputs": [
    {
     "name": "stderr",
     "output_type": "stream",
     "text": [
      "'nvidia-smi' is not recognized as an internal or external command,\n",
      "operable program or batch file.\n"
     ]
    }
   ],
   "source": [
    "!nvidia-smi"
   ]
  },
  {
   "cell_type": "code",
   "execution_count": 5,
   "id": "880589f7",
   "metadata": {},
   "outputs": [
    {
     "name": "stdout",
     "output_type": "stream",
     "text": [
      " Volume in drive C has no label.\n",
      " Volume Serial Number is 481B-EA36\n",
      "\n",
      " Directory of C:\\Users\\admin\\Desktop\\Python\\Python Crash Course\n",
      "\n",
      "03/19/2022  09:31 PM    <DIR>          .\n",
      "03/19/2022  03:56 PM    <DIR>          ..\n",
      "03/19/2022  09:29 PM    <DIR>          .ipynb_checkpoints\n",
      "03/19/2022  09:31 PM             5,335 0 - Basics of Python.ipynb\n",
      "03/19/2022  01:49 PM            33,082 1 - Python_Introduction _String.ipynb\n",
      "03/19/2022  03:15 PM            52,823 2-Python List,Dictionary,Sets etc.ipynb\n",
      "02/26/2022  09:44 AM            24,399 3-Numpy Tutorial.ipynb\n",
      "02/26/2022  09:44 AM           332,024 4- Pandas tutorial.ipynb\n",
      "02/26/2022  09:44 AM           141,881 4.5-Matplotlib.ipynb\n",
      "02/26/2022  09:44 AM           310,450 5- Seaborn.ipynb\n",
      "03/19/2022  01:01 PM             8,170 6- Functions.ipynb\n",
      "02/26/2022  09:44 AM             2,394 Advance Python Series- Inheritance--OOPS.ipynb\n",
      "02/26/2022  09:44 AM             5,549 Advance Python Series- Public Private And Protected.ipynb\n",
      "02/26/2022  09:44 AM             3,422 Advance Python Series-Magic Methods In Classes.ipynb\n",
      "02/26/2022  09:44 AM             2,396 Advanced Python Assert.ipynb\n",
      "03/12/2022  02:03 PM             9,960 Advanced Python Try--Exception handling.ipynb\n",
      "02/26/2022  09:44 AM             3,761 Asynchronous Execution With Thread Using Python.ipynb\n",
      "02/26/2022  09:44 AM             3,116 Class Methods In Python.ipynb\n",
      "03/05/2022  03:56 PM            15,076 Control Flow Statements in Python.ipynb\n",
      "02/26/2022  09:44 AM               854 df_excel\n",
      "02/26/2022  09:44 AM           186,689 EDA.ipynb\n",
      "02/26/2022  09:44 AM             5,508 Excel_Sample.xlsx\n",
      "02/26/2022  09:44 AM         3,220,873 mercedesbenz.csv\n",
      "02/26/2022  09:44 AM            24,588 Modin Pandas.ipynb\n",
      "02/26/2022  09:44 AM             2,796 Multiple Inheritance In Python.ipynb\n",
      "02/26/2022  09:44 AM             5,237 Python Decorators.ipynb\n",
      "02/26/2022  09:44 AM             6,894 Python Eval() Functions.ipynb\n",
      "02/26/2022  09:44 AM             2,770 Python IS Keyword.ipynb\n",
      "02/26/2022  09:44 AM             4,752 Python- Iterators Vs Generators.ipynb\n",
      "02/26/2022  09:44 AM             6,281 Python Zip Function-Parallel Iteration.ipynb\n",
      "02/26/2022  09:44 AM             6,262 Shallow Copy Vs Deep Copy Python.ipynb\n",
      "02/26/2022  09:44 AM             2,630 Static Methods In Python.ipynb\n",
      "02/26/2022  09:44 AM                33 Test.csv\n",
      "02/26/2022  09:44 AM            12,208 wine.csv\n",
      "              31 File(s)      4,442,213 bytes\n",
      "               3 Dir(s)  159,810,797,568 bytes free\n"
     ]
    }
   ],
   "source": [
    "ls"
   ]
  },
  {
   "cell_type": "code",
   "execution_count": 6,
   "id": "10d2500b",
   "metadata": {},
   "outputs": [],
   "source": [
    "a =\"Sujata\""
   ]
  },
  {
   "cell_type": "code",
   "execution_count": 7,
   "id": "62f4a49e",
   "metadata": {},
   "outputs": [
    {
     "data": {
      "text/plain": [
       "'Sujata'"
      ]
     },
     "execution_count": 7,
     "metadata": {},
     "output_type": "execute_result"
    }
   ],
   "source": [
    "a"
   ]
  },
  {
   "cell_type": "markdown",
   "id": "bf27dd2f",
   "metadata": {},
   "source": [
    "## This practice page"
   ]
  },
  {
   "cell_type": "code",
   "execution_count": 8,
   "id": "2961d632",
   "metadata": {},
   "outputs": [
    {
     "ename": "SyntaxError",
     "evalue": "invalid syntax (<ipython-input-8-b539f9d32cc9>, line 1)",
     "output_type": "error",
     "traceback": [
      "\u001b[1;36m  File \u001b[1;32m\"<ipython-input-8-b539f9d32cc9>\"\u001b[1;36m, line \u001b[1;32m1\u001b[0m\n\u001b[1;33m    finally = \"Sujata\"  ## Finally is reserved keywork\u001b[0m\n\u001b[1;37m    ^\u001b[0m\n\u001b[1;31mSyntaxError\u001b[0m\u001b[1;31m:\u001b[0m invalid syntax\n"
     ]
    }
   ],
   "source": [
    "finally = \"Sujata\"  ## Finally is reserved keywork"
   ]
  },
  {
   "cell_type": "code",
   "execution_count": 10,
   "id": "e7c64876",
   "metadata": {},
   "outputs": [],
   "source": [
    "abc = \"nandini\""
   ]
  },
  {
   "cell_type": "code",
   "execution_count": 11,
   "id": "aa889002",
   "metadata": {},
   "outputs": [
    {
     "name": "stdout",
     "output_type": "stream",
     "text": [
      "It's ok.I'm good\n"
     ]
    }
   ],
   "source": [
    "if True:\n",
    "    print(\"It's ok.I'm good\") "
   ]
  },
  {
   "cell_type": "code",
   "execution_count": 12,
   "id": "85045a52",
   "metadata": {},
   "outputs": [
    {
     "name": "stdout",
     "output_type": "stream",
     "text": [
      "true\n"
     ]
    }
   ],
   "source": [
    "if True:print(\"true\")"
   ]
  },
  {
   "cell_type": "code",
   "execution_count": 13,
   "id": "1a95e1b3",
   "metadata": {},
   "outputs": [
    {
     "name": "stdout",
     "output_type": "stream",
     "text": [
      "Write input34\n"
     ]
    },
    {
     "data": {
      "text/plain": [
       "34"
      ]
     },
     "execution_count": 13,
     "metadata": {},
     "output_type": "execute_result"
    }
   ],
   "source": [
    "int(input(\"Write input\"))"
   ]
  },
  {
   "cell_type": "code",
   "execution_count": 14,
   "id": "24e6bbd0",
   "metadata": {},
   "outputs": [],
   "source": [
    "adress= \"dsjkwhuwhrgkjr3rk3h\""
   ]
  },
  {
   "cell_type": "code",
   "execution_count": 15,
   "id": "b5a14af8",
   "metadata": {},
   "outputs": [],
   "source": [
    "paragraph= '''I want to lean python.Thisjiwfwefw vhbw.fhwhwnvwkbvuiwh\n",
    "'''"
   ]
  },
  {
   "cell_type": "code",
   "execution_count": 16,
   "id": "1b74f011",
   "metadata": {},
   "outputs": [],
   "source": [
    "a=12"
   ]
  },
  {
   "cell_type": "code",
   "execution_count": 17,
   "id": "ec413852",
   "metadata": {},
   "outputs": [],
   "source": [
    "b=24"
   ]
  },
  {
   "cell_type": "code",
   "execution_count": 18,
   "id": "7054858f",
   "metadata": {},
   "outputs": [
    {
     "data": {
      "text/plain": [
       "36"
      ]
     },
     "execution_count": 18,
     "metadata": {},
     "output_type": "execute_result"
    }
   ],
   "source": [
    "a+b"
   ]
  },
  {
   "cell_type": "code",
   "execution_count": 19,
   "id": "0921d52b",
   "metadata": {},
   "outputs": [
    {
     "data": {
      "text/plain": [
       "12"
      ]
     },
     "execution_count": 19,
     "metadata": {},
     "output_type": "execute_result"
    }
   ],
   "source": [
    "b-a"
   ]
  },
  {
   "cell_type": "code",
   "execution_count": 20,
   "id": "5ed4d610",
   "metadata": {},
   "outputs": [
    {
     "data": {
      "text/plain": [
       "288"
      ]
     },
     "execution_count": 20,
     "metadata": {},
     "output_type": "execute_result"
    }
   ],
   "source": [
    "a*b"
   ]
  },
  {
   "cell_type": "code",
   "execution_count": 21,
   "id": "12480b17",
   "metadata": {},
   "outputs": [
    {
     "data": {
      "text/plain": [
       "0.5"
      ]
     },
     "execution_count": 21,
     "metadata": {},
     "output_type": "execute_result"
    }
   ],
   "source": [
    "a/b"
   ]
  },
  {
   "cell_type": "code",
   "execution_count": 22,
   "id": "6d53b8c7",
   "metadata": {},
   "outputs": [
    {
     "data": {
      "text/plain": [
       "14"
      ]
     },
     "execution_count": 22,
     "metadata": {},
     "output_type": "execute_result"
    }
   ],
   "source": [
    "a^2"
   ]
  },
  {
   "cell_type": "code",
   "execution_count": 23,
   "id": "a94527ad",
   "metadata": {},
   "outputs": [
    {
     "data": {
      "text/plain": [
       "False"
      ]
     },
     "execution_count": 23,
     "metadata": {},
     "output_type": "execute_result"
    }
   ],
   "source": [
    "a==b"
   ]
  },
  {
   "cell_type": "code",
   "execution_count": 24,
   "id": "8d5b983e",
   "metadata": {},
   "outputs": [],
   "source": [
    "a+=2"
   ]
  },
  {
   "cell_type": "code",
   "execution_count": 25,
   "id": "6de13696",
   "metadata": {},
   "outputs": [
    {
     "data": {
      "text/plain": [
       "14"
      ]
     },
     "execution_count": 25,
     "metadata": {},
     "output_type": "execute_result"
    }
   ],
   "source": [
    "a"
   ]
  },
  {
   "cell_type": "code",
   "execution_count": 26,
   "id": "3b3a0018",
   "metadata": {},
   "outputs": [],
   "source": [
    "a=a+2"
   ]
  },
  {
   "cell_type": "code",
   "execution_count": 27,
   "id": "1974d489",
   "metadata": {},
   "outputs": [],
   "source": [
    "q=2"
   ]
  },
  {
   "cell_type": "code",
   "execution_count": 28,
   "id": "eb2a0caf",
   "metadata": {},
   "outputs": [
    {
     "data": {
      "text/plain": [
       "True"
      ]
     },
     "execution_count": 28,
     "metadata": {},
     "output_type": "execute_result"
    }
   ],
   "source": [
    "q==2"
   ]
  },
  {
   "cell_type": "code",
   "execution_count": 29,
   "id": "f57c9b33",
   "metadata": {},
   "outputs": [
    {
     "data": {
      "text/plain": [
       "False"
      ]
     },
     "execution_count": 29,
     "metadata": {},
     "output_type": "execute_result"
    }
   ],
   "source": [
    "a==b"
   ]
  },
  {
   "cell_type": "code",
   "execution_count": 30,
   "id": "991a9e18",
   "metadata": {},
   "outputs": [
    {
     "data": {
      "text/plain": [
       "True"
      ]
     },
     "execution_count": 30,
     "metadata": {},
     "output_type": "execute_result"
    }
   ],
   "source": [
    "a!=b"
   ]
  },
  {
   "cell_type": "code",
   "execution_count": 31,
   "id": "595b6eb7",
   "metadata": {},
   "outputs": [
    {
     "data": {
      "text/plain": [
       "16"
      ]
     },
     "execution_count": 31,
     "metadata": {},
     "output_type": "execute_result"
    }
   ],
   "source": [
    "a"
   ]
  },
  {
   "cell_type": "code",
   "execution_count": 32,
   "id": "6bcee776",
   "metadata": {},
   "outputs": [
    {
     "data": {
      "text/plain": [
       "24"
      ]
     },
     "execution_count": 32,
     "metadata": {},
     "output_type": "execute_result"
    }
   ],
   "source": [
    "b"
   ]
  },
  {
   "cell_type": "code",
   "execution_count": 33,
   "id": "9cfeee64",
   "metadata": {},
   "outputs": [
    {
     "data": {
      "text/plain": [
       "True"
      ]
     },
     "execution_count": 33,
     "metadata": {},
     "output_type": "execute_result"
    }
   ],
   "source": [
    "a<b"
   ]
  },
  {
   "cell_type": "code",
   "execution_count": 34,
   "id": "0291b1a7",
   "metadata": {},
   "outputs": [
    {
     "data": {
      "text/plain": [
       "False"
      ]
     },
     "execution_count": 34,
     "metadata": {},
     "output_type": "execute_result"
    }
   ],
   "source": [
    "a>=b"
   ]
  },
  {
   "cell_type": "code",
   "execution_count": 35,
   "id": "44d98193",
   "metadata": {},
   "outputs": [
    {
     "data": {
      "text/plain": [
       "True"
      ]
     },
     "execution_count": 35,
     "metadata": {},
     "output_type": "execute_result"
    }
   ],
   "source": [
    "a>12 and b<25"
   ]
  },
  {
   "cell_type": "code",
   "execution_count": 36,
   "id": "da513a65",
   "metadata": {},
   "outputs": [
    {
     "data": {
      "text/plain": [
       "False"
      ]
     },
     "execution_count": 36,
     "metadata": {},
     "output_type": "execute_result"
    }
   ],
   "source": [
    "a>12 and b<20"
   ]
  },
  {
   "cell_type": "code",
   "execution_count": 37,
   "id": "a1306675",
   "metadata": {},
   "outputs": [
    {
     "data": {
      "text/plain": [
       "True"
      ]
     },
     "execution_count": 37,
     "metadata": {},
     "output_type": "execute_result"
    }
   ],
   "source": [
    "a>12 or b<20"
   ]
  },
  {
   "cell_type": "code",
   "execution_count": 38,
   "id": "060ed360",
   "metadata": {},
   "outputs": [
    {
     "data": {
      "text/plain": [
       "4874.0"
      ]
     },
     "execution_count": 38,
     "metadata": {},
     "output_type": "execute_result"
    }
   ],
   "source": [
    "10+12*812/2-(120-112)"
   ]
  },
  {
   "cell_type": "code",
   "execution_count": 39,
   "id": "1c01607c",
   "metadata": {},
   "outputs": [],
   "source": [
    "x=5"
   ]
  },
  {
   "cell_type": "code",
   "execution_count": 41,
   "id": "c2640508",
   "metadata": {},
   "outputs": [
    {
     "data": {
      "text/plain": [
       "int"
      ]
     },
     "execution_count": 41,
     "metadata": {},
     "output_type": "execute_result"
    }
   ],
   "source": [
    "type(x)"
   ]
  },
  {
   "cell_type": "code",
   "execution_count": 42,
   "id": "813ee3f8",
   "metadata": {},
   "outputs": [],
   "source": [
    "x=2"
   ]
  },
  {
   "cell_type": "code",
   "execution_count": 43,
   "id": "1c75b5b7",
   "metadata": {},
   "outputs": [],
   "source": [
    "As = \"Ashwini\""
   ]
  },
  {
   "cell_type": "code",
   "execution_count": 44,
   "id": "97fd89cc",
   "metadata": {},
   "outputs": [
    {
     "data": {
      "text/plain": [
       "str"
      ]
     },
     "execution_count": 44,
     "metadata": {},
     "output_type": "execute_result"
    }
   ],
   "source": [
    "type(As)"
   ]
  },
  {
   "cell_type": "code",
   "execution_count": 45,
   "id": "b80673b0",
   "metadata": {},
   "outputs": [],
   "source": [
    "x=\"Kanishka\""
   ]
  },
  {
   "cell_type": "code",
   "execution_count": 46,
   "id": "d85e7e37",
   "metadata": {},
   "outputs": [],
   "source": [
    "y = 'Kanishka'"
   ]
  },
  {
   "cell_type": "code",
   "execution_count": 47,
   "id": "d894e038",
   "metadata": {},
   "outputs": [
    {
     "data": {
      "text/plain": [
       "True"
      ]
     },
     "execution_count": 47,
     "metadata": {},
     "output_type": "execute_result"
    }
   ],
   "source": [
    "x==y"
   ]
  },
  {
   "cell_type": "code",
   "execution_count": 48,
   "id": "541a90ab",
   "metadata": {},
   "outputs": [],
   "source": [
    "x =\"Raju\""
   ]
  },
  {
   "cell_type": "code",
   "execution_count": 49,
   "id": "43f17c92",
   "metadata": {},
   "outputs": [
    {
     "data": {
      "text/plain": [
       "'Raju'"
      ]
     },
     "execution_count": 49,
     "metadata": {},
     "output_type": "execute_result"
    }
   ],
   "source": [
    "x"
   ]
  },
  {
   "cell_type": "code",
   "execution_count": 50,
   "id": "f1e23ea1",
   "metadata": {},
   "outputs": [],
   "source": [
    "a = 4"
   ]
  },
  {
   "cell_type": "code",
   "execution_count": 51,
   "id": "0fdd356e",
   "metadata": {},
   "outputs": [],
   "source": [
    "A=5"
   ]
  },
  {
   "cell_type": "code",
   "execution_count": 52,
   "id": "634e35d7",
   "metadata": {},
   "outputs": [
    {
     "data": {
      "text/plain": [
       "4"
      ]
     },
     "execution_count": 52,
     "metadata": {},
     "output_type": "execute_result"
    }
   ],
   "source": [
    "a"
   ]
  },
  {
   "cell_type": "code",
   "execution_count": 53,
   "id": "c7fecab7",
   "metadata": {},
   "outputs": [
    {
     "data": {
      "text/plain": [
       "5"
      ]
     },
     "execution_count": 53,
     "metadata": {},
     "output_type": "execute_result"
    }
   ],
   "source": [
    "A"
   ]
  },
  {
   "cell_type": "code",
   "execution_count": 54,
   "id": "49b6e80f",
   "metadata": {},
   "outputs": [],
   "source": [
    "MyName = \"Sujata\""
   ]
  },
  {
   "cell_type": "code",
   "execution_count": 55,
   "id": "20ed5efd",
   "metadata": {},
   "outputs": [],
   "source": [
    "My_Name = \"Sujata\""
   ]
  },
  {
   "cell_type": "code",
   "execution_count": 56,
   "id": "806db3c6",
   "metadata": {},
   "outputs": [],
   "source": [
    "_MyName = \"Sujata\""
   ]
  },
  {
   "cell_type": "code",
   "execution_count": 57,
   "id": "b3900544",
   "metadata": {},
   "outputs": [
    {
     "ename": "SyntaxError",
     "evalue": "invalid syntax (<ipython-input-57-223c698d912a>, line 1)",
     "output_type": "error",
     "traceback": [
      "\u001b[1;36m  File \u001b[1;32m\"<ipython-input-57-223c698d912a>\"\u001b[1;36m, line \u001b[1;32m1\u001b[0m\n\u001b[1;33m    2MyName=\"Sujata\"\u001b[0m\n\u001b[1;37m     ^\u001b[0m\n\u001b[1;31mSyntaxError\u001b[0m\u001b[1;31m:\u001b[0m invalid syntax\n"
     ]
    }
   ],
   "source": [
    "2MyName=\"Sujata\""
   ]
  },
  {
   "cell_type": "code",
   "execution_count": 58,
   "id": "2aee1ea9",
   "metadata": {},
   "outputs": [],
   "source": [
    "My_name2=\"Shravani\""
   ]
  },
  {
   "cell_type": "code",
   "execution_count": 59,
   "id": "77475011",
   "metadata": {},
   "outputs": [],
   "source": [
    "MyName123 =\"xcv\""
   ]
  },
  {
   "cell_type": "code",
   "execution_count": 60,
   "id": "938763a5",
   "metadata": {},
   "outputs": [
    {
     "ename": "SyntaxError",
     "evalue": "invalid syntax (<ipython-input-60-5572ad90aadf>, line 1)",
     "output_type": "error",
     "traceback": [
      "\u001b[1;36m  File \u001b[1;32m\"<ipython-input-60-5572ad90aadf>\"\u001b[1;36m, line \u001b[1;32m1\u001b[0m\n\u001b[1;33m    @myNmae =\"asc\"\u001b[0m\n\u001b[1;37m            ^\u001b[0m\n\u001b[1;31mSyntaxError\u001b[0m\u001b[1;31m:\u001b[0m invalid syntax\n"
     ]
    }
   ],
   "source": [
    "@myNmae =\"asc\""
   ]
  },
  {
   "cell_type": "code",
   "execution_count": 61,
   "id": "2bbf95ea",
   "metadata": {},
   "outputs": [
    {
     "ename": "SyntaxError",
     "evalue": "invalid syntax (<ipython-input-61-fd2b3ffd1980>, line 1)",
     "output_type": "error",
     "traceback": [
      "\u001b[1;36m  File \u001b[1;32m\"<ipython-input-61-fd2b3ffd1980>\"\u001b[1;36m, line \u001b[1;32m1\u001b[0m\n\u001b[1;33m    my_name_@ =\"ASd\"\u001b[0m\n\u001b[1;37m              ^\u001b[0m\n\u001b[1;31mSyntaxError\u001b[0m\u001b[1;31m:\u001b[0m invalid syntax\n"
     ]
    }
   ],
   "source": [
    "my_name_@ =\"ASd\""
   ]
  },
  {
   "cell_type": "code",
   "execution_count": 62,
   "id": "952e6a78",
   "metadata": {},
   "outputs": [],
   "source": [
    "A2A =\"asd\""
   ]
  },
  {
   "cell_type": "code",
   "execution_count": 63,
   "id": "faa8fe1c",
   "metadata": {},
   "outputs": [],
   "source": [
    "x,y,z = \"orange\",\"banana\",\"cherry\""
   ]
  },
  {
   "cell_type": "code",
   "execution_count": 64,
   "id": "cf01db50",
   "metadata": {},
   "outputs": [
    {
     "data": {
      "text/plain": [
       "'orange'"
      ]
     },
     "execution_count": 64,
     "metadata": {},
     "output_type": "execute_result"
    }
   ],
   "source": [
    "x"
   ]
  },
  {
   "cell_type": "code",
   "execution_count": 65,
   "id": "68b0db7a",
   "metadata": {},
   "outputs": [
    {
     "data": {
      "text/plain": [
       "'banana'"
      ]
     },
     "execution_count": 65,
     "metadata": {},
     "output_type": "execute_result"
    }
   ],
   "source": [
    "y"
   ]
  },
  {
   "cell_type": "code",
   "execution_count": 66,
   "id": "70b7e627",
   "metadata": {},
   "outputs": [
    {
     "data": {
      "text/plain": [
       "'cherry'"
      ]
     },
     "execution_count": 66,
     "metadata": {},
     "output_type": "execute_result"
    }
   ],
   "source": [
    "z"
   ]
  },
  {
   "cell_type": "code",
   "execution_count": 67,
   "id": "641500f3",
   "metadata": {},
   "outputs": [],
   "source": [
    "x=y=z=\"Orange\""
   ]
  },
  {
   "cell_type": "code",
   "execution_count": 68,
   "id": "bc97d46a",
   "metadata": {},
   "outputs": [
    {
     "data": {
      "text/plain": [
       "'Orange'"
      ]
     },
     "execution_count": 68,
     "metadata": {},
     "output_type": "execute_result"
    }
   ],
   "source": [
    "x"
   ]
  },
  {
   "cell_type": "code",
   "execution_count": 69,
   "id": "bce10e77",
   "metadata": {},
   "outputs": [
    {
     "data": {
      "text/plain": [
       "'Orange'"
      ]
     },
     "execution_count": 69,
     "metadata": {},
     "output_type": "execute_result"
    }
   ],
   "source": [
    "y"
   ]
  },
  {
   "cell_type": "code",
   "execution_count": 70,
   "id": "d7d28dc5",
   "metadata": {},
   "outputs": [
    {
     "data": {
      "text/plain": [
       "'Orange'"
      ]
     },
     "execution_count": 70,
     "metadata": {},
     "output_type": "execute_result"
    }
   ],
   "source": [
    "z"
   ]
  },
  {
   "cell_type": "code",
   "execution_count": 71,
   "id": "083d230a",
   "metadata": {},
   "outputs": [],
   "source": [
    "fruits =[\"banana\",\"apple\",\"cherry\"]"
   ]
  },
  {
   "cell_type": "code",
   "execution_count": 72,
   "id": "e411b8d4",
   "metadata": {},
   "outputs": [],
   "source": [
    "x=y=z=fruits"
   ]
  },
  {
   "cell_type": "code",
   "execution_count": 73,
   "id": "7a949da3",
   "metadata": {},
   "outputs": [
    {
     "name": "stdout",
     "output_type": "stream",
     "text": [
      "['banana', 'apple', 'cherry']\n"
     ]
    }
   ],
   "source": [
    "print(x)"
   ]
  },
  {
   "cell_type": "code",
   "execution_count": 74,
   "id": "5600a266",
   "metadata": {},
   "outputs": [
    {
     "data": {
      "text/plain": [
       "['banana', 'apple', 'cherry']"
      ]
     },
     "execution_count": 74,
     "metadata": {},
     "output_type": "execute_result"
    }
   ],
   "source": [
    "y"
   ]
  },
  {
   "cell_type": "code",
   "execution_count": 75,
   "id": "512c03be",
   "metadata": {},
   "outputs": [],
   "source": [
    "x,y,z =fruits"
   ]
  },
  {
   "cell_type": "code",
   "execution_count": 76,
   "id": "e3bb0c85",
   "metadata": {},
   "outputs": [
    {
     "data": {
      "text/plain": [
       "'banana'"
      ]
     },
     "execution_count": 76,
     "metadata": {},
     "output_type": "execute_result"
    }
   ],
   "source": [
    "x"
   ]
  },
  {
   "cell_type": "code",
   "execution_count": 77,
   "id": "d608bfbd",
   "metadata": {},
   "outputs": [
    {
     "data": {
      "text/plain": [
       "'apple'"
      ]
     },
     "execution_count": 77,
     "metadata": {},
     "output_type": "execute_result"
    }
   ],
   "source": [
    "y"
   ]
  },
  {
   "cell_type": "code",
   "execution_count": 78,
   "id": "3b19c616",
   "metadata": {},
   "outputs": [],
   "source": [
    "x =\"Awesome\""
   ]
  },
  {
   "cell_type": "code",
   "execution_count": 79,
   "id": "0111cca9",
   "metadata": {},
   "outputs": [
    {
     "name": "stdout",
     "output_type": "stream",
     "text": [
      "python is Awesome\n"
     ]
    }
   ],
   "source": [
    "print(\"python is\" + \" \"+ x)"
   ]
  },
  {
   "cell_type": "code",
   "execution_count": 80,
   "id": "b63b2686",
   "metadata": {},
   "outputs": [],
   "source": [
    "x=2"
   ]
  },
  {
   "cell_type": "code",
   "execution_count": 81,
   "id": "9dcd937c",
   "metadata": {},
   "outputs": [],
   "source": [
    "z=2"
   ]
  },
  {
   "cell_type": "code",
   "execution_count": 82,
   "id": "d66c6960",
   "metadata": {},
   "outputs": [
    {
     "data": {
      "text/plain": [
       "4"
      ]
     },
     "execution_count": 82,
     "metadata": {},
     "output_type": "execute_result"
    }
   ],
   "source": [
    "x+z"
   ]
  },
  {
   "cell_type": "code",
   "execution_count": 83,
   "id": "fd005bd3",
   "metadata": {},
   "outputs": [],
   "source": [
    "x =\"Python is\""
   ]
  },
  {
   "cell_type": "code",
   "execution_count": 84,
   "id": "8771e21c",
   "metadata": {},
   "outputs": [],
   "source": [
    "y =\"Awesome\""
   ]
  },
  {
   "cell_type": "code",
   "execution_count": 85,
   "id": "4cc8deec",
   "metadata": {},
   "outputs": [],
   "source": [
    "z=x+y"
   ]
  },
  {
   "cell_type": "code",
   "execution_count": 86,
   "id": "594a7ea2",
   "metadata": {},
   "outputs": [
    {
     "name": "stdout",
     "output_type": "stream",
     "text": [
      "Python isAwesome\n"
     ]
    }
   ],
   "source": [
    "print(z)"
   ]
  },
  {
   "cell_type": "code",
   "execution_count": 87,
   "id": "104edaf6",
   "metadata": {},
   "outputs": [],
   "source": [
    "x=\"Helo World\""
   ]
  },
  {
   "cell_type": "code",
   "execution_count": 88,
   "id": "a9e22660",
   "metadata": {},
   "outputs": [
    {
     "data": {
      "text/plain": [
       "str"
      ]
     },
     "execution_count": 88,
     "metadata": {},
     "output_type": "execute_result"
    }
   ],
   "source": [
    "type(x)"
   ]
  },
  {
   "cell_type": "code",
   "execution_count": 89,
   "id": "5a6e5ca5",
   "metadata": {},
   "outputs": [],
   "source": [
    "x=range(6)"
   ]
  },
  {
   "cell_type": "code",
   "execution_count": 90,
   "id": "2ddd7e0b",
   "metadata": {},
   "outputs": [
    {
     "data": {
      "text/plain": [
       "range"
      ]
     },
     "execution_count": 90,
     "metadata": {},
     "output_type": "execute_result"
    }
   ],
   "source": [
    "type(x)"
   ]
  },
  {
   "cell_type": "code",
   "execution_count": 91,
   "id": "f07350db",
   "metadata": {},
   "outputs": [],
   "source": [
    "x=12"
   ]
  },
  {
   "cell_type": "code",
   "execution_count": 92,
   "id": "957b1f11",
   "metadata": {},
   "outputs": [],
   "source": [
    "y=\"smile\""
   ]
  },
  {
   "cell_type": "code",
   "execution_count": 93,
   "id": "86e535b3",
   "metadata": {},
   "outputs": [
    {
     "ename": "TypeError",
     "evalue": "unsupported operand type(s) for +: 'int' and 'str'",
     "output_type": "error",
     "traceback": [
      "\u001b[1;31m---------------------------------------------------------------------------\u001b[0m",
      "\u001b[1;31mTypeError\u001b[0m                                 Traceback (most recent call last)",
      "\u001b[1;32m<ipython-input-93-62651f6be357>\u001b[0m in \u001b[0;36m<module>\u001b[1;34m\u001b[0m\n\u001b[1;32m----> 1\u001b[1;33m \u001b[0mx\u001b[0m \u001b[1;33m+\u001b[0m\u001b[0my\u001b[0m\u001b[1;33m\u001b[0m\u001b[1;33m\u001b[0m\u001b[0m\n\u001b[0m",
      "\u001b[1;31mTypeError\u001b[0m: unsupported operand type(s) for +: 'int' and 'str'"
     ]
    }
   ],
   "source": [
    "x +y"
   ]
  },
  {
   "cell_type": "code",
   "execution_count": 94,
   "id": "9d99fc94",
   "metadata": {},
   "outputs": [
    {
     "data": {
      "text/plain": [
       "'12'"
      ]
     },
     "execution_count": 94,
     "metadata": {},
     "output_type": "execute_result"
    }
   ],
   "source": [
    "str(x)"
   ]
  },
  {
   "cell_type": "code",
   "execution_count": 95,
   "id": "bc82ab81",
   "metadata": {},
   "outputs": [
    {
     "data": {
      "text/plain": [
       "'12smile'"
      ]
     },
     "execution_count": 95,
     "metadata": {},
     "output_type": "execute_result"
    }
   ],
   "source": [
    "str(x) + y"
   ]
  },
  {
   "cell_type": "code",
   "execution_count": 96,
   "id": "99544d8f",
   "metadata": {},
   "outputs": [],
   "source": [
    "example =[1,2,3]"
   ]
  },
  {
   "cell_type": "code",
   "execution_count": 97,
   "id": "f603b4f9",
   "metadata": {},
   "outputs": [
    {
     "data": {
      "text/plain": [
       "list"
      ]
     },
     "execution_count": 97,
     "metadata": {},
     "output_type": "execute_result"
    }
   ],
   "source": [
    "type(example)"
   ]
  },
  {
   "cell_type": "code",
   "execution_count": 98,
   "id": "dc8fc5d7",
   "metadata": {},
   "outputs": [],
   "source": [
    "a= []"
   ]
  },
  {
   "cell_type": "code",
   "execution_count": 99,
   "id": "5318ed54",
   "metadata": {},
   "outputs": [
    {
     "data": {
      "text/plain": [
       "list"
      ]
     },
     "execution_count": 99,
     "metadata": {},
     "output_type": "execute_result"
    }
   ],
   "source": [
    "type(a)"
   ]
  },
  {
   "cell_type": "code",
   "execution_count": 100,
   "id": "6491bc2a",
   "metadata": {},
   "outputs": [],
   "source": [
    "a = 1000"
   ]
  },
  {
   "cell_type": "code",
   "execution_count": 101,
   "id": "8279254b",
   "metadata": {},
   "outputs": [
    {
     "data": {
      "text/plain": [
       "int"
      ]
     },
     "execution_count": 101,
     "metadata": {},
     "output_type": "execute_result"
    }
   ],
   "source": [
    "type(a)"
   ]
  },
  {
   "cell_type": "code",
   "execution_count": 102,
   "id": "ad81eab6",
   "metadata": {},
   "outputs": [],
   "source": [
    "a =100"
   ]
  },
  {
   "cell_type": "markdown",
   "id": "aa789a16",
   "metadata": {},
   "source": [
    "## String"
   ]
  },
  {
   "cell_type": "code",
   "execution_count": 103,
   "id": "2bca54bd",
   "metadata": {},
   "outputs": [],
   "source": [
    "variable =\"asdgg\""
   ]
  },
  {
   "cell_type": "code",
   "execution_count": 104,
   "id": "785f2c1f",
   "metadata": {},
   "outputs": [],
   "source": [
    "var ='afsdg'"
   ]
  },
  {
   "cell_type": "code",
   "execution_count": 105,
   "id": "44068b61",
   "metadata": {},
   "outputs": [
    {
     "name": "stdout",
     "output_type": "stream",
     "text": [
      "afsdg\n"
     ]
    }
   ],
   "source": [
    "print(var)"
   ]
  }
 ],
 "metadata": {
  "kernelspec": {
   "display_name": "Python 3",
   "language": "python",
   "name": "python3"
  },
  "language_info": {
   "codemirror_mode": {
    "name": "ipython",
    "version": 3
   },
   "file_extension": ".py",
   "mimetype": "text/x-python",
   "name": "python",
   "nbconvert_exporter": "python",
   "pygments_lexer": "ipython3",
   "version": "3.8.8"
  }
 },
 "nbformat": 4,
 "nbformat_minor": 5
}
